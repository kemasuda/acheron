{
 "cells": [
  {
   "cell_type": "code",
   "execution_count": 1,
   "id": "3ba3cd4a",
   "metadata": {},
   "outputs": [],
   "source": [
    "import numpy as np\n",
    "import pandas as pd\n",
    "import matplotlib.pyplot as plt\n",
    "import corner\n",
    "import glob, dill, sys, os\n",
    "from jaxstar.mistfit import MistFit, MistGridIso\n",
    "from jax.scipy.ndimage import map_coordinates as mapc"
   ]
  },
  {
   "cell_type": "code",
   "execution_count": 2,
   "id": "9593b341",
   "metadata": {},
   "outputs": [],
   "source": [
    "import seaborn as sns\n",
    "sns.set(style='ticks', font_scale=1.6, font='times')\n",
    "from matplotlib import rc\n",
    "rc('text', usetex=True*0)"
   ]
  },
  {
   "cell_type": "code",
   "execution_count": 5,
   "id": "4a2d68eb",
   "metadata": {},
   "outputs": [],
   "source": [
    "d = pd.read_csv(\"../../input/isoinput_cks_valid.csv\")"
   ]
  },
  {
   "cell_type": "code",
   "execution_count": 7,
   "id": "ceba60f0",
   "metadata": {},
   "outputs": [
    {
     "name": "stderr",
     "output_type": "stream",
     "text": [
      "/Users/k_masuda/.pyenv/versions/anaconda3-5.3.1/lib/python3.7/site-packages/pandas/core/arraylike.py:364: RuntimeWarning: invalid value encountered in log10\n",
      "  result = getattr(ufunc, method)(*inputs, **kwargs)\n"
     ]
    }
   ],
   "source": [
    "d['logplx'] = np.log10(d.parallax)"
   ]
  },
  {
   "cell_type": "code",
   "execution_count": 16,
   "id": "d1e03301",
   "metadata": {},
   "outputs": [
    {
     "name": "stdout",
     "output_type": "stream",
     "text": [
      "          logplx  parallax_over_error  kmag_err_corrected         teff  \\\n",
      "mean    0.170474           145.237645            0.026508  5662.124293   \n",
      "median  0.146219           104.843995            0.023168  5710.350000   \n",
      "std     0.256337           160.839456            0.012297   436.360181   \n",
      "min    -0.846577            -4.200069            0.011000  4617.700000   \n",
      "max     1.437081          2455.805200            0.119221  6631.000000   \n",
      "\n",
      "             feh  \n",
      "mean    0.031073  \n",
      "median  0.042000  \n",
      "std     0.180148  \n",
      "min    -0.687000  \n",
      "max     0.440000  \n"
     ]
    }
   ],
   "source": [
    "stats = [\"mean\", \"median\", \"std\", \"min\", \"max\"]\n",
    "print (d.agg({\"logplx\": stats, \"parallax_over_error\": stats, \"kmag_err_corrected\": stats, \"teff\": stats, \"feh\": stats}))"
   ]
  },
  {
   "cell_type": "code",
   "execution_count": 17,
   "id": "2afdb312",
   "metadata": {},
   "outputs": [],
   "source": [
    "mass_min, mass_max = 0.7, 1.3\n",
    "kmag_err = 0.023 # median\n",
    "parallax_over_err = 100 # median\n",
    "logplx_mean, logplx_std = 0.17, 0.26\n",
    "feh_mean, feh_std = 0.03, 0.18\n",
    "eep_max = 600"
   ]
  },
  {
   "cell_type": "code",
   "execution_count": 18,
   "id": "5e433c33",
   "metadata": {},
   "outputs": [],
   "source": [
    "teff_err, feh_err = 110, 0.1"
   ]
  },
  {
   "cell_type": "code",
   "execution_count": 31,
   "id": "a5abc358",
   "metadata": {},
   "outputs": [],
   "source": [
    "np.random.seed(123)\n",
    "label = 'simulated-cks'\n",
    "N = 10000\n",
    "masses = np.random.rand(N) * (mass_max - mass_min) + mass_min\n",
    "ages = np.random.rand(N) * 13.7 + 0.1\n",
    "fehs = np.random.randn(N) * feh_std + feh_mean\n",
    "logplxs = np.random.randn(N) * logplx_std + logplx_mean\n",
    "logages = np.log10(ages*1e9)"
   ]
  },
  {
   "cell_type": "code",
   "execution_count": 34,
   "id": "b7a8bca6",
   "metadata": {},
   "outputs": [
    {
     "data": {
      "image/png": "[encoded data removed]",
      "text/plain": [
       "<Figure size 432x288 with 1 Axes>"
      ]
     },
     "metadata": {},
     "output_type": "display_data"
    }
   ],
   "source": [
    "bins = np.linspace(-0.6, 0.6, 30)\n",
    "plt.hist(d.feh, density=True, bins=bins)\n",
    "plt.hist(fehs, density=True, histtype='step', bins=bins);"
   ]
  },
  {
   "cell_type": "code",
   "execution_count": 35,
   "id": "ad88d7d2",
   "metadata": {},
   "outputs": [
    {
     "data": {
      "image/png": "[encoded data removed]",
      "text/plain": [
       "<Figure size 432x288 with 1 Axes>"
      ]
     },
     "metadata": {},
     "output_type": "display_data"
    }
   ],
   "source": [
    "bins = np.linspace(-0.8, 1.4, 30)\n",
    "plt.hist(d.logplx, density=True, bins=bins)\n",
    "plt.hist(logplxs, density=True, histtype='step', bins=bins);"
   ]
  },
  {
   "cell_type": "code",
   "execution_count": 36,
   "id": "298a19f2",
   "metadata": {},
   "outputs": [],
   "source": [
    "mf = MistGridIso()"
   ]
  },
  {
   "cell_type": "code",
   "execution_count": 37,
   "id": "fd2109ff",
   "metadata": {},
   "outputs": [],
   "source": [
    "mf.set_keys(['teff', 'kmag', 'mass', 'radius'])"
   ]
  },
  {
   "cell_type": "code",
   "execution_count": 38,
   "id": "76255f4b",
   "metadata": {},
   "outputs": [
    {
     "name": "stdout",
     "output_type": "stream",
     "text": [
      "7540 valid stars.\n"
     ]
    }
   ],
   "source": [
    "eeps = np.arange(eep_max)\n",
    "ones = np.ones_like(eeps)\n",
    "teffs, kmags, idx, rads, eepints = [], [], [], [], []\n",
    "n = N#sample\n",
    "for loga, feh, mass in zip(logages[:n], fehs[:n], masses[:n]):\n",
    "    _teff, _kmag, _mass, _rad = mf.values(loga*ones, feh*ones, eeps)\n",
    "    #_idx = np.nanargmin(np.abs(_mass-mass))\n",
    "    _idxu = np.searchsorted(_mass, mass)\n",
    "    _idxl = _idxu - 1\n",
    "    if _idxu == len(eeps):\n",
    "        idx.append(False)\n",
    "        continue\n",
    "    idx.append(True)\n",
    "    _ml, _mu = _mass[_idxl], _mass[_idxu]\n",
    "    wl, wu = (_mu-mass)/(_mu-_ml), (mass-_ml)/(_mu-_ml)\n",
    "    teffs.append(_teff[_idxl]*wl + _teff[_idxu]*wu)\n",
    "    kmags.append(_kmag[_idxl]*wl + _kmag[_idxu]*wu)\n",
    "    rads.append(_rad[_idxl]*wl + _rad[_idxu]*wu)\n",
    "    eepints.append(eeps[_idxl]*wl + eeps[_idxu]*wu)\n",
    "    #if _teff[_idxl]*wl + _teff[_idxu]*wu != _teff[_idxl]*wl + _teff[_idxu]*wu:\n",
    "    #    print (_idxl, loga, feh, mass, _mass)\n",
    "teffs = np.array(teffs)\n",
    "kmags = np.array(kmags)\n",
    "rads = np.array(rads)\n",
    "eepints = np.array(eepints)\n",
    "idx = np.array(idx)\n",
    "print (np.sum(idx), 'valid stars.')"
   ]
  },
  {
   "cell_type": "code",
   "execution_count": 122,
   "id": "1e292d2e",
   "metadata": {},
   "outputs": [
    {
     "name": "stdout",
     "output_type": "stream",
     "text": [
      "7504 valid stars.\n"
     ]
    }
   ],
   "source": [
    "eeps = np.arange(eep_max)\n",
    "ones = np.ones_like(eeps)\n",
    "teffs, kmags, idx, rads, eepints = [], [], [], [], []\n",
    "n = N \n",
    "for loga, feh, mass in zip(logages[:n], fehs[:n], masses[:n]):\n",
    "    _teffs, _kmags, _masses, _rads = mf.values(loga*ones, feh*ones, eeps)\n",
    "    \n",
    "    _teff = interp1d(_masses, _teffs)(mass)\n",
    "    _kmag = interp1d(_masses, _kmags)(mass)\n",
    "    _rad = interp1d(_masses, _rads)(mass)\n",
    "    _eep = interp1d(_masses, eeps)(mass)\n",
    "    \n",
    "    if (0 < _teff < np.inf) and (-np.inf < _kmag < np.inf) & (0 < _rad < np.inf) & (0 < _eep < eep_max):\n",
    "        idx.append(True)\n",
    "    else:\n",
    "        idx.append(False)\n",
    "        continue\n",
    "\n",
    "    teffs.append(_teff)\n",
    "    kmags.append(_kmag)\n",
    "    rads.append(_rad)\n",
    "    eepints.append(_eep)\n",
    "\n",
    "teffs = np.array(teffs)\n",
    "kmags = np.array(kmags)\n",
    "rads = np.array(rads)\n",
    "eepints = np.array(eepints)\n",
    "idx = np.array(idx)\n",
    "print (np.sum(idx), 'valid stars.')"
   ]
  },
  {
   "cell_type": "code",
   "execution_count": 123,
   "id": "77d9949a",
   "metadata": {},
   "outputs": [],
   "source": [
    "dsim = pd.DataFrame(data={\n",
    "    \"teff_true\": teffs, \"kmag_true\": kmags - 5*logplxs[idx] + 10, \"eep_true\": eepints, \"radius_true\": rads,\n",
    "    \"mass_true\": masses[idx], \"age_true\": ages[idx], \"feh_true\": fehs[idx], \"parallax_true\": 10**logplxs[idx],\n",
    "    \"teff_error\": teff_err, \"feh_error\": feh_err, \"kmag_error\": kmag_err,\n",
    "    \"parallax_error\": 10**logplxs[idx] / parallax_over_err,\n",
    "})"
   ]
  },
  {
   "cell_type": "markdown",
   "id": "eaa85011",
   "metadata": {},
   "source": [
    "### add errors"
   ]
  },
  {
   "cell_type": "code",
   "execution_count": 124,
   "id": "5d984581",
   "metadata": {},
   "outputs": [],
   "source": [
    "np.random.seed(123)\n",
    "for key in [\"teff\", \"feh\", \"kmag\", \"parallax\"]:\n",
    "    dsim[key+\"_obs\"] = dsim[key+\"_true\"] + np.random.randn(len(dsim)) * dsim[key+\"_error\"]"
   ]
  },
  {
   "cell_type": "code",
   "execution_count": 125,
   "id": "dfc5feb3",
   "metadata": {},
   "outputs": [
    {
     "name": "stdout",
     "output_type": "stream",
     "text": [
      "7145\n"
     ]
    }
   ],
   "source": [
    "idxf = np.abs(dsim.feh_obs) < 0.4\n",
    "print (np.sum(idxf))"
   ]
  },
  {
   "cell_type": "code",
   "execution_count": 126,
   "id": "bca45e78",
   "metadata": {},
   "outputs": [],
   "source": [
    "dsim = dsim[idxf].reset_index(drop=True)"
   ]
  },
  {
   "cell_type": "code",
   "execution_count": 127,
   "id": "b509643f",
   "metadata": {},
   "outputs": [],
   "source": [
    "dsim['kepid'] = [\"%05d\"%s for s in np.arange(len(dsim))]"
   ]
  },
  {
   "cell_type": "code",
   "execution_count": 129,
   "id": "298c8569",
   "metadata": {},
   "outputs": [
    {
     "data": {
      "text/plain": [
       "(array([ 155.,  354.,  586.,  890., 1108., 1141., 1107.,  828.,  610.,\n",
       "         366.]),\n",
       " array([-3.99868536e-01, -3.19886721e-01, -2.39904906e-01, -1.59923091e-01,\n",
       "        -7.99412762e-02,  4.05387221e-05,  8.00223536e-02,  1.60004168e-01,\n",
       "         2.39985983e-01,  3.19967798e-01,  3.99949613e-01]),\n",
       " <BarContainer object of 10 artists>)"
      ]
     },
     "execution_count": 129,
     "metadata": {},
     "output_type": "execute_result"
    },
    {
     "data": {
      "image/png": "[encoded data removed]",
      "text/plain": [
       "<Figure size 432x288 with 1 Axes>"
      ]
     },
     "metadata": {},
     "output_type": "display_data"
    }
   ],
   "source": [
    "plt.hist(dsim.feh_obs)"
   ]
  },
  {
   "cell_type": "code",
   "execution_count": 130,
   "id": "623a08c9",
   "metadata": {},
   "outputs": [],
   "source": [
    "dsim.to_csv(\"simulated-cks3.csv\", index=False)"
   ]
  },
  {
   "cell_type": "code",
   "execution_count": 46,
   "id": "09fd75f1",
   "metadata": {},
   "outputs": [],
   "source": [
    "#dold = pd.read_csv(\"simulated-cks.csv\")"
   ]
  },
  {
   "cell_type": "code",
   "execution_count": 53,
   "id": "b13d61ca",
   "metadata": {},
   "outputs": [
    {
     "data": {
      "image/png": "[encoded data removed]",
      "text/plain": [
       "<Figure size 432x288 with 1 Axes>"
      ]
     },
     "metadata": {},
     "output_type": "display_data"
    }
   ],
   "source": [
    "#plt.hist(dsim.parallax_obs, density=True, bins=50)\n",
    "#plt.hist(dold.parallax_obs, density=True, bins=50, alpha=0.4);"
   ]
  },
  {
   "cell_type": "code",
   "execution_count": null,
   "id": "fe5151dc",
   "metadata": {},
   "outputs": [],
   "source": []
  }
 ],
 "metadata": {
  "kernelspec": {
   "display_name": "Python 3 (ipykernel)",
   "language": "python",
   "name": "python3"
  },
  "language_info": {
   "codemirror_mode": {
    "name": "ipython",
    "version": 3
   },
   "file_extension": ".py",
   "mimetype": "text/x-python",
   "name": "python",
   "nbconvert_exporter": "python",
   "pygments_lexer": "ipython3",
   "version": "3.7.2"
  }
 },
 "nbformat": 4,
 "nbformat_minor": 5
}
