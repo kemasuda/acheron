{
 "cells": [
  {
   "cell_type": "code",
   "execution_count": 1,
   "id": "3627e5aa",
   "metadata": {},
   "outputs": [],
   "source": [
    "import numpy as np\n",
    "import pandas as pd\n",
    "import sys, os, glob, corner\n",
    "import matplotlib.pyplot as plt\n",
    "from jaxstar.utils import *"
   ]
  },
  {
   "cell_type": "code",
   "execution_count": 2,
   "id": "f24c58e7",
   "metadata": {},
   "outputs": [],
   "source": [
    "import seaborn as sns\n",
    "sns.set(style='ticks', font_scale=1.6, font='sans-serif')\n",
    "from matplotlib import rc\n",
    "rc('text', usetex=True)\n",
    "%matplotlib inline"
   ]
  },
  {
   "cell_type": "code",
   "execution_count": 3,
   "id": "b7587f1e",
   "metadata": {},
   "outputs": [],
   "source": [
    "from sklearn.neighbors import KDTree\n",
    "def normalize(x, centers=np.array([1, 7]), widths=np.array([0.6, 14])):\n",
    "    return (x - centers) / widths\n",
    "\n",
    "def choose_simdata(simdata, samples):\n",
    "    simd = np.array(simdata[['mass_true', 'age_true']])\n",
    "    tree = KDTree(normalize(simd))\n",
    "    distances, idx = tree.query(normalize(samples), k=1)\n",
    "    print (np.max(distances))\n",
    "    return distances.ravel(), idx.ravel()\n",
    "\n",
    "from scipy.stats import ks_2samp\n",
    "def check_sample(dsmp, dsim):\n",
    "    _, pval = ks_2samp(dsmp.mass_true, dsim.mass_true)\n",
    "    plt.figure()\n",
    "    plt.xlabel(\"mass\")\n",
    "    plt.hist(dsim.mass_true, density=True, bins=100, histtype='step', lw=1, cumulative=True, label='original')\n",
    "    plt.hist(dsmp.mass_true, density=True, bins=100, histtype='step', lw=1, cumulative=True)\n",
    "    plt.title(\"$p=%.2f$\"%pval)\n",
    "    plt.legend(loc='best');\n",
    "\n",
    "    #%%\n",
    "    _, pval = ks_2samp(dsmp.age_true, dsim.age_true)\n",
    "    plt.figure()\n",
    "    plt.xlabel(\"age\")\n",
    "    plt.hist(dsim.age_true, density=True, bins=100, histtype='step', lw=1, cumulative=True, label='original')\n",
    "    plt.hist(dsmp.age_true, density=True, bins=100, histtype='step', lw=1, cumulative=True)\n",
    "    plt.title(\"$p=%.2f$\"%pval)\n",
    "    plt.legend(loc='best');\n",
    "\n",
    "    #%%\n",
    "    plt.figure()\n",
    "    plt.plot(dsim.mass_true, dsim.age_true, ',', label='original')\n",
    "    plt.plot(dsmp.mass_true, dsmp.age_true, '.')\n",
    "    plt.legend(loc='best');\n",
    "    \n",
    "def get_posterior_samples(d, postdir, agekey=\"age\", n_samples=20000):\n",
    "    samples = []\n",
    "    for i, kepid in enumerate(d.kepid):\n",
    "        filename = postdir + \"%s_samples.csv\"%(\"%05d\"%kepid)\n",
    "        dp = pd.read_csv(filename)[['mass', agekey]]\n",
    "        samples.append(np.array(dp)[:n_samples])\n",
    "    samples = np.array(samples)\n",
    "    return samples"
   ]
  },
  {
   "cell_type": "code",
   "execution_count": 4,
   "id": "5a293c04",
   "metadata": {},
   "outputs": [],
   "source": [
    "def define_sample(funcname, dsim, n_samples, postdir=\"../posteriors_simulated_cks/\", ntruths=1e6, namebase=''):\n",
    "    name = funcname + namebase\n",
    "    print (name)\n",
    "    if n_samples != 800:\n",
    "        name += \"_s%d\"%n_samples\n",
    "    psamples = globals()[funcname](int(ntruths), mmin, mmax)\n",
    "    dists, idx = choose_simdata(dsim, psamples)\n",
    "    dsamples = dsim.iloc[idx[:n_samples]].reset_index(drop=True)\n",
    "    dtruths = pd.DataFrame(data={\"mass_true\": psamples.T[0], \"age_true\": psamples.T[1]})\n",
    "    check_sample(dsamples, dtruths)  \n",
    "    samples = get_posterior_samples(dsamples, postdir) # posterior samples\n",
    "    dsamples.to_csv(\"%s.csv\"%name, index=False)\n",
    "    np.savez(\"%s.npz\"%name, samples=samples, dtruths=dtruths)"
   ]
  },
  {
   "cell_type": "code",
   "execution_count": 5,
   "id": "226100ca",
   "metadata": {},
   "outputs": [],
   "source": [
    "age_upper = lambda mass: -30 * (mass-1.25) + 5.\n",
    "\n",
    "def get_valid_ma(m, a, mmin, mmax):\n",
    "    idx = (age_upper(m) > a) & (mmin < m) & (m < mmax) & (0 < a) & (a < 14)\n",
    "    return np.array([m[idx], a[idx]]).T\n",
    "\n",
    "def func0(Nsample, mmin, mmax, seed=123):\n",
    "    np.random.seed(seed)\n",
    "    m = np.random.rand(Nsample) * (mmax-mmin) + mmin\n",
    "    a = np.random.rand(Nsample) * 14\n",
    "    return get_valid_ma(m, a, mmin, mmax)\n",
    "\n",
    "def func1(Nsample, mmin, mmax, seed=123):\n",
    "    np.random.seed(seed)\n",
    "    m = 1.05 + 0.1 * np.random.randn(Nsample)\n",
    "    a = 7 + np.random.randn(Nsample) * 1.5\n",
    "    return get_valid_ma(m, a, mmin, mmax)\n",
    "\n",
    "def func2(Nsample, mmin, mmax, seed=123):\n",
    "    np.random.seed(seed)\n",
    "    m = 0.8 + 0.2 * np.random.randn(Nsample)\n",
    "    a = 4 + np.random.randn(Nsample) * 2\n",
    "    return get_valid_ma(m, a, mmin, mmax)\n",
    "\n",
    "def func3(Nsample, mmin, mmax, seed=123):\n",
    "    np.random.seed(seed)\n",
    "    m = 0.8 + 0.2 * np.random.randn(Nsample)\n",
    "    a = 10 + np.random.randn(Nsample) * 2\n",
    "    return get_valid_ma(m, a, mmin, mmax)\n",
    "\n",
    "def func4(Nsample, mmin, mmax, seed=123):\n",
    "    np.random.seed(seed)\n",
    "    m = 0.8 + 0.2 * np.random.randn(Nsample)\n",
    "    a = 3 + np.random.randn(Nsample) * 2\n",
    "    return get_valid_ma(m, a, mmin, mmax)\n",
    "\n",
    "def func5(Nsample, mmin, mmax, seed=123):\n",
    "    np.random.seed(seed)\n",
    "    m = 0.8 + 0.2 * np.random.randn(Nsample)\n",
    "    a = 11 + np.random.randn(Nsample) * 2\n",
    "    return get_valid_ma(m, a, mmin, mmax)"
   ]
  },
  {
   "cell_type": "code",
   "execution_count": 6,
   "id": "1cfadda6",
   "metadata": {},
   "outputs": [],
   "source": [
    "mmin, mmax, femax = 0.75-0.05, 1.25+0.05, 0.4"
   ]
  },
  {
   "cell_type": "code",
   "execution_count": 7,
   "id": "1ea2954c",
   "metadata": {},
   "outputs": [
    {
     "data": {
      "text/plain": [
       "5093"
      ]
     },
     "execution_count": 7,
     "metadata": {},
     "output_type": "execute_result"
    }
   ],
   "source": [
    "d = pd.read_csv(\"../simulated-cks_results.csv\")\n",
    "idx = (np.abs(d.feh_true) < femax) & (mmin < d.mass_true) & (d.mass_true < mmax)# & (d.idx)\n",
    "idxmax = len(d)\n",
    "dsim = d[idx&(d.index<idxmax)].reset_index(drop=True)\n",
    "len(dsim)"
   ]
  },
  {
   "cell_type": "code",
   "execution_count": 8,
   "id": "298b7eab",
   "metadata": {},
   "outputs": [],
   "source": [
    "n_samples = 800"
   ]
  },
  {
   "cell_type": "code",
   "execution_count": 9,
   "id": "47b5b84c",
   "metadata": {},
   "outputs": [
    {
     "name": "stdout",
     "output_type": "stream",
     "text": [
      "func0\n",
      "0.03150784203748787\n"
     ]
    },
    {
     "data": {
      "image/png": "[encoded data removed]",
      "text/plain": [
       "<Figure size 432x288 with 1 Axes>"
      ]
     },
     "metadata": {
      "needs_background": "light"
     },
     "output_type": "display_data"
    },
    {
     "data": {
      "image/png": "[encoded data removed]",
      "text/plain": [
       "<Figure size 432x288 with 1 Axes>"
      ]
     },
     "metadata": {
      "needs_background": "light"
     },
     "output_type": "display_data"
    },
    {
     "data": {
      "image/png": "[encoded data removed]",
      "text/plain": [
       "<Figure size 432x288 with 1 Axes>"
      ]
     },
     "metadata": {
      "needs_background": "light"
     },
     "output_type": "display_data"
    }
   ],
   "source": [
    "funcname = 'func0'\n",
    "define_sample(funcname, dsim, n_samples)"
   ]
  },
  {
   "cell_type": "code",
   "execution_count": null,
   "id": "6a7f597d",
   "metadata": {},
   "outputs": [
    {
     "name": "stdout",
     "output_type": "stream",
     "text": [
      "func1\n",
      "0.02990811198593455\n"
     ]
    }
   ],
   "source": [
    "funcname = 'func1'\n",
    "define_sample(funcname, dsim, n_samples)"
   ]
  },
  {
   "cell_type": "code",
   "execution_count": null,
   "id": "8c70d5ef",
   "metadata": {},
   "outputs": [],
   "source": [
    "funcname = 'func2'\n",
    "define_sample(funcname, dsim, n_samples)"
   ]
  },
  {
   "cell_type": "code",
   "execution_count": null,
   "id": "8f9fee4f",
   "metadata": {},
   "outputs": [],
   "source": [
    "funcname = 'func3'\n",
    "define_sample(funcname, dsim, n_samples)"
   ]
  },
  {
   "cell_type": "code",
   "execution_count": null,
   "id": "bb91527e",
   "metadata": {},
   "outputs": [],
   "source": []
  }
 ],
 "metadata": {
  "kernelspec": {
   "display_name": "Python 3 (ipykernel)",
   "language": "python",
   "name": "python3"
  },
  "language_info": {
   "codemirror_mode": {
    "name": "ipython",
    "version": 3
   },
   "file_extension": ".py",
   "mimetype": "text/x-python",
   "name": "python",
   "nbconvert_exporter": "python",
   "pygments_lexer": "ipython3",
   "version": "3.7.2"
  }
 },
 "nbformat": 4,
 "nbformat_minor": 5
}
